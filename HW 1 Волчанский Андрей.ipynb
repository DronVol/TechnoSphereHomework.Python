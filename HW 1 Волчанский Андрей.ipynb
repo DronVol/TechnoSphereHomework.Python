{
 "cells": [
  {
   "cell_type": "markdown",
   "metadata": {},
   "source": [
    "Работу выполнил Андрей Волчанский, студент группы BD-11. Home Work 1"
   ]
  },
  {
   "cell_type": "markdown",
   "metadata": {},
   "source": [
    "** Найти сумму всех чисел до 1000, которые делятся на 3 или 5 без остатка **"
   ]
  },
  {
   "cell_type": "code",
   "execution_count": 2,
   "metadata": {
    "collapsed": false
   },
   "outputs": [
    {
     "name": "stdout",
     "output_type": "stream",
     "text": [
      "233168\n"
     ]
    }
   ],
   "source": [
    "def num_gen():\n",
    "    for num in xrange(1000):\n",
    "        if not num % 3 or not num % 5:\n",
    "            yield num\n",
    "\n",
    "print sum(num_gen())"
   ]
  },
  {
   "cell_type": "markdown",
   "metadata": {},
   "source": [
    "** Найти сумму всех четных чисел в последовательности Фиббоначи, которые меньше миллиона, 5 баллов**"
   ]
  },
  {
   "cell_type": "code",
   "execution_count": 6,
   "metadata": {
    "collapsed": false
   },
   "outputs": [
    {
     "name": "stdout",
     "output_type": "stream",
     "text": [
      "Sum of all febonacci numbers less then a million is: 1089154\n"
     ]
    }
   ],
   "source": [
    "def febonacci():\n",
    "    #print sum of Febonacci nubers on even positions, starting from 0 1 1 2...\n",
    "    a0=0\n",
    "    a1=1\n",
    "    s=0\n",
    "    i=0\n",
    "    feb=0\n",
    "    while a1 <= 1000000:\n",
    "        a=a0+a1\n",
    "        a0=a1\n",
    "        a1=a\n",
    "        #print a1\n",
    "        i+=1\n",
    "        if not a1 % 2:\n",
    "            s+=a1\n",
    "        \n",
    "    #print i,a1,a0,s\n",
    "    print \"Sum of all febonacci numbers less then a million is:\",s\n",
    "            \n",
    "# print s\n",
    "febonacci()"
   ]
  },
  {
   "cell_type": "markdown",
   "metadata": {},
   "source": []
  },
  {
   "cell_type": "markdown",
   "metadata": {},
   "source": [
    "** В директории находится текстовый файл с киррилицей. Необходимо прочитать его и построить частоту, с которой встречается каждая из гласных, 3 балла**"
   ]
  },
  {
   "cell_type": "code",
   "execution_count": 1,
   "metadata": {
    "collapsed": false
   },
   "outputs": [
    {
     "name": "stdout",
     "output_type": "stream",
     "text": [
      "Vocals frequancies in file in.txt:\n",
      "у - 0.0621225194\n",
      "ы - 0.0509059534\n",
      "э - 0.0073339085\n",
      "я - 0.0582398619\n",
      "ю - 0.0138050043\n",
      "ё - 0.0000000000\n",
      "а - 0.2096635030\n",
      "е - 0.1949956859\n",
      "и - 0.1475409836\n",
      "о - 0.2553925798\n"
     ]
    }
   ],
   "source": [
    "vocals = {u'а':0, u'е':0, u'ё':0, u'и':0, u'о':0, u'у':0, u'ы':0, u'э':0, u'ю':0, u'я':0}\n",
    "file_name = \"in.txt\"\n",
    "#Program finds a frequancy of vocals in .txt file\n",
    "\n",
    "def vocal_counter(vocals, file_name = \"file.txt\"):\n",
    "    letters_quantity = 0\n",
    "    #letters_quantity - number of VOCALS. Lets search frequancies as percent from total number of vocals in .txt\n",
    "    with open(file_name,'r') as text:\n",
    "        for line in text:\n",
    "            for element in line.decode(\"utf8\").lower():\n",
    "                if element.isalpha(): \n",
    "                    #letters_quantity += 1\n",
    "                    if element in vocals:\n",
    "                        letters_quantity += 1\n",
    "                        vocals[element] += 1\n",
    "    return letters_quantity,vocals\n",
    "\n",
    "\n",
    "def frequency(vocals, file_name = \"input.txt\"):#default file name\n",
    "    frequancy = {} #dict with frequancies\n",
    "    letters_quantity,vocals = vocal_counter(vocals, file_name)\n",
    "    for key,val in vocals.iteritems():\n",
    "        frequancy[key] = float(val)/letters_quantity;\n",
    "    return frequancy\n",
    "\n",
    "def printf(dict, file = \"input.txt\"):\n",
    "    print \"Vocals frequancies in file %s:\"%(file)Частота гласных букв в файле\n",
    "    for key,val in dict.iteritems():\n",
    "        print \"%c - %.10f\"%(key,val)\n",
    "        \n",
    "printf(frequency(vocals,file_name),file_name)"
   ]
  },
  {
   "cell_type": "markdown",
   "metadata": {},
   "source": [
    "** Написать код, который инвертирует значения в словаре (значение:ключ вместо ключ:значение), 1 балл. **"
   ]
  },
  {
   "cell_type": "code",
   "execution_count": 4,
   "metadata": {
    "collapsed": false
   },
   "outputs": [
    {
     "name": "stdout",
     "output_type": "stream",
     "text": [
      "{'a': 0, 'c': 3, 'b': 2, 'e': 5, 'd': 4, 'g': 7, 'f': 6, 'i': 9, 'h': 8, 'j': 10} \n",
      "{0: 'a', 2: 'b', 3: 'c', 4: 'd', 5: 'e', 6: 'f', 7: 'g', 8: 'h', 9: 'i', 10: 'j'}\n"
     ]
    }
   ],
   "source": [
    "alpha = {'a':0, 'b':2, 'c':3, 'd':4, 'e':5, 'f':6, 'g':7, 'h':8, 'i':9, 'j':10}\n",
    "#Change places of value and key in dictionary\n",
    "\n",
    "def invert_dict(dict):\n",
    "    inverted = {val:key for key,val in dict.items()}\n",
    "    return inverted\n",
    "    \n",
    "slacov=invert_dict(vocals) #vocals наоборот\n",
    "print vocals,\"\\n\",slacov"
   ]
  },
  {
   "cell_type": "code",
   "execution_count": null,
   "metadata": {
    "collapsed": true
   },
   "outputs": [],
   "source": []
  }
 ],
 "metadata": {
  "kernelspec": {
   "display_name": "Python [Root]",
   "language": "python",
   "name": "Python [Root]"
  },
  "language_info": {
   "codemirror_mode": {
    "name": "ipython",
    "version": 2
   },
   "file_extension": ".py",
   "mimetype": "text/x-python",
   "name": "python",
   "nbconvert_exporter": "python",
   "pygments_lexer": "ipython2",
   "version": "2.7.12"
  }
 },
 "nbformat": 4,
 "nbformat_minor": 0
}
